{
 "cells": [
  {
   "cell_type": "markdown",
   "metadata": {},
   "source": [
    "# Keras implementation of the simple NN that classifies bundle stability (cf. Section 2.1)"
   ]
  },
  {
   "cell_type": "code",
   "execution_count": 15,
   "metadata": {},
   "outputs": [],
   "source": [
    "from __future__ import print_function  # for backwards compatibility: uses print() also in python2\n",
    "\n",
    "from keras.models import Sequential  # feed foorward NN\n",
    "from keras.layers import Dense  # need only fully connected (dense) layers\n",
    "from keras import optimizers  # need only fully connected (dense) layers\n",
    "import numpy as np\n",
    "\n",
    "# display plots in notebook\n",
    "%matplotlib inline\n",
    "import matplotlib as mpl  # for plotting\n",
    "import matplotlib.pyplot as plt  # for plotting\n",
    "from mpl_toolkits.mplot3d import Axes3D  # for plotting\n",
    "\n",
    "# Optional: Seed the random number generator for reproducibility\n",
    "seed = 0\n",
    "np.random.seed(seed)\n",
    "rng = np.random.RandomState(seed)"
   ]
  },
  {
   "cell_type": "markdown",
   "metadata": {},
   "source": [
    "## Read in the full data set"
   ]
  },
  {
   "cell_type": "code",
   "execution_count": 16,
   "metadata": {},
   "outputs": [],
   "source": [
    "# This step is different for every training set. In the case at hand, the training data is just a .txt file with an array\n",
    "# (It is an array of arrays of the form\n",
    "# [[[x_0^0,x_1^0], y^0], [[x_0^1,x_1^1], y^1], ...]\n",
    "# The [x_0^i, x_1^i] are integers and the y^i are labels (0: unstable, 1: stable)\n",
    "hnd = open(\"../stability_data.txt\", \"r\")\n",
    "all_data = eval(hnd.read())"
   ]
  },
  {
   "cell_type": "markdown",
   "metadata": {},
   "source": [
    "## Perform a train:test split "
   ]
  },
  {
   "cell_type": "code",
   "execution_count": 17,
   "metadata": {},
   "outputs": [],
   "source": [
    "# helper function to create random batches\n",
    "def shuffle_trainset(x_train, y_train):\n",
    "    assert len(x_train) == len(y_train)\n",
    "    new_order = np.random.permutation(len(x_train))\n",
    "    new_x = [x_train[i] for i in new_order]\n",
    "    new_y = [y_train[i] for i in new_order]\n",
    "\n",
    "    return new_x, new_y\n",
    "\n",
    "# shuffle the entire data set once to get random train and test pairs\n",
    "rng.shuffle(all_data)\n",
    "\n",
    "# perform a train:test split of 80:20\n",
    "split_point = int(len(all_data)*0.8)\n",
    "x_train, x_test = [x[0] for x in all_data[0:split_point]], [x[0] for x in all_data[split_point+1:]]\n",
    "y_train, y_test = [[x[1]] for x in all_data[0:split_point]], [[x[1]] for x in all_data[split_point+1:]]"
   ]
  },
  {
   "cell_type": "markdown",
   "metadata": {},
   "source": [
    "## Define the NN hyperparameters"
   ]
  },
  {
   "cell_type": "code",
   "execution_count": 18,
   "metadata": {},
   "outputs": [],
   "source": [
    "# number of nodes in each layer\n",
    "input_dim = 2\n",
    "hidden1_dim = 4\n",
    "hidden2_dim = 4\n",
    "output_dim = 1\n",
    "\n",
    "# set training variables\n",
    "epochs = 101\n",
    "batch_size = 32\n",
    "learning_rate = 0.1\n",
    "\n",
    "\n",
    "# define placeholders for input and output\n",
    "x = tf.placeholder(tf.float32, [None, input_dim])\n",
    "y = tf.placeholder(tf.float32, [None, output_dim])"
   ]
  },
  {
   "cell_type": "markdown",
   "metadata": {},
   "source": [
    "## Set up the NN"
   ]
  },
  {
   "cell_type": "code",
   "execution_count": 19,
   "metadata": {},
   "outputs": [],
   "source": [
    "# create the NN\n",
    "nn = Sequential()\n",
    "nn.add(Dense(hidden1_dim, kernel_initializer='uniform', activation='sigmoid', input_dim=input_dim))\n",
    "nn.add(Dense(hidden2_dim, kernel_initializer='uniform', activation='sigmoid'))  # automatically infer input dimensions\n",
    "nn.add(Dense(output_dim,  kernel_initializer='uniform', activation='sigmoid'))  # automatically infer input dimensions"
   ]
  },
  {
   "cell_type": "markdown",
   "metadata": {},
   "source": [
    "## Specify the optimizer and initialize the network"
   ]
  },
  {
   "cell_type": "code",
   "execution_count": 20,
   "metadata": {},
   "outputs": [
    {
     "name": "stdout",
     "output_type": "stream",
     "text": [
      "_________________________________________________________________\n",
      "Layer (type)                 Output Shape              Param #   \n",
      "=================================================================\n",
      "dense_1 (Dense)              (None, 4)                 12        \n",
      "_________________________________________________________________\n",
      "dense_2 (Dense)              (None, 4)                 20        \n",
      "_________________________________________________________________\n",
      "dense_3 (Dense)              (None, 1)                 5         \n",
      "=================================================================\n",
      "Total params: 37\n",
      "Trainable params: 37\n",
      "Non-trainable params: 0\n",
      "_________________________________________________________________\n"
     ]
    }
   ],
   "source": [
    "# use ADAM optimizer\n",
    "adam = optimizers.adam(lr=learning_rate)\n",
    "nn.compile(loss='mean_squared_error', optimizer=adam, metrics=['accuracy'])\n",
    "nn.summary()"
   ]
  },
  {
   "cell_type": "markdown",
   "metadata": {},
   "source": [
    "## Train the NN"
   ]
  },
  {
   "cell_type": "code",
   "execution_count": 21,
   "metadata": {},
   "outputs": [
    {
     "name": "stdout",
     "output_type": "stream",
     "text": [
      "WARNING:tensorflow:From /Users/faruehle/work/venv_python2.7/lib/python2.7/site-packages/tensorflow/python/ops/math_ops.py:3066: to_int32 (from tensorflow.python.ops.math_ops) is deprecated and will be removed in a future version.\n",
      "Instructions for updating:\n",
      "Use tf.cast instead.\n",
      "Train on 352 samples, validate on 88 samples\n",
      "Epoch 1/101\n",
      " - 0s - loss: 0.2519 - acc: 0.5426 - val_loss: 0.2488 - val_acc: 0.5341\n",
      "Epoch 2/101\n",
      " - 0s - loss: 0.2481 - acc: 0.5369 - val_loss: 0.2628 - val_acc: 0.4659\n",
      "Epoch 3/101\n",
      " - 0s - loss: 0.2486 - acc: 0.5682 - val_loss: 0.2641 - val_acc: 0.4659\n",
      "Epoch 4/101\n",
      " - 0s - loss: 0.2442 - acc: 0.6335 - val_loss: 0.2410 - val_acc: 0.6818\n",
      "Epoch 5/101\n",
      " - 0s - loss: 0.2191 - acc: 0.7415 - val_loss: 0.2057 - val_acc: 0.7159\n",
      "Epoch 6/101\n",
      " - 0s - loss: 0.1779 - acc: 0.7727 - val_loss: 0.1769 - val_acc: 0.7386\n",
      "Epoch 7/101\n",
      " - 0s - loss: 0.1629 - acc: 0.7784 - val_loss: 0.1786 - val_acc: 0.7386\n",
      "Epoch 8/101\n",
      " - 0s - loss: 0.1609 - acc: 0.7784 - val_loss: 0.1773 - val_acc: 0.7386\n",
      "Epoch 9/101\n",
      " - 0s - loss: 0.1597 - acc: 0.7812 - val_loss: 0.1747 - val_acc: 0.7386\n",
      "Epoch 10/101\n",
      " - 0s - loss: 0.1592 - acc: 0.7812 - val_loss: 0.1725 - val_acc: 0.7386\n",
      "Epoch 11/101\n",
      " - 0s - loss: 0.1586 - acc: 0.7812 - val_loss: 0.1718 - val_acc: 0.7386\n",
      "Epoch 12/101\n",
      " - 0s - loss: 0.1585 - acc: 0.7812 - val_loss: 0.1729 - val_acc: 0.7386\n",
      "Epoch 13/101\n",
      " - 0s - loss: 0.1584 - acc: 0.7812 - val_loss: 0.1723 - val_acc: 0.7386\n",
      "Epoch 14/101\n",
      " - 0s - loss: 0.1584 - acc: 0.7812 - val_loss: 0.1734 - val_acc: 0.7386\n",
      "Epoch 15/101\n",
      " - 0s - loss: 0.1590 - acc: 0.7812 - val_loss: 0.1741 - val_acc: 0.7386\n",
      "Epoch 16/101\n",
      " - 0s - loss: 0.1591 - acc: 0.7812 - val_loss: 0.1699 - val_acc: 0.7386\n",
      "Epoch 17/101\n",
      " - 0s - loss: 0.1584 - acc: 0.7812 - val_loss: 0.1732 - val_acc: 0.7386\n",
      "Epoch 18/101\n",
      " - 0s - loss: 0.1584 - acc: 0.7812 - val_loss: 0.1735 - val_acc: 0.7386\n",
      "Epoch 19/101\n",
      " - 0s - loss: 0.1586 - acc: 0.7812 - val_loss: 0.1732 - val_acc: 0.7386\n",
      "Epoch 20/101\n",
      " - 0s - loss: 0.1582 - acc: 0.7812 - val_loss: 0.1722 - val_acc: 0.7386\n",
      "Epoch 21/101\n",
      " - 0s - loss: 0.1582 - acc: 0.7812 - val_loss: 0.1716 - val_acc: 0.7386\n",
      "Epoch 22/101\n",
      " - 0s - loss: 0.1584 - acc: 0.7812 - val_loss: 0.1715 - val_acc: 0.7386\n",
      "Epoch 23/101\n",
      " - 0s - loss: 0.1587 - acc: 0.7812 - val_loss: 0.1712 - val_acc: 0.7386\n",
      "Epoch 24/101\n",
      " - 0s - loss: 0.1582 - acc: 0.7812 - val_loss: 0.1734 - val_acc: 0.7386\n",
      "Epoch 25/101\n",
      " - 0s - loss: 0.1584 - acc: 0.7812 - val_loss: 0.1723 - val_acc: 0.7386\n",
      "Epoch 26/101\n",
      " - 0s - loss: 0.1581 - acc: 0.7812 - val_loss: 0.1728 - val_acc: 0.7386\n",
      "Epoch 27/101\n",
      " - 0s - loss: 0.1582 - acc: 0.7812 - val_loss: 0.1732 - val_acc: 0.7386\n",
      "Epoch 28/101\n",
      " - 0s - loss: 0.1585 - acc: 0.7812 - val_loss: 0.1729 - val_acc: 0.7386\n",
      "Epoch 29/101\n",
      " - 0s - loss: 0.1589 - acc: 0.7812 - val_loss: 0.1703 - val_acc: 0.7386\n",
      "Epoch 30/101\n",
      " - 0s - loss: 0.1590 - acc: 0.7812 - val_loss: 0.1737 - val_acc: 0.7386\n",
      "Epoch 31/101\n",
      " - 0s - loss: 0.1585 - acc: 0.7812 - val_loss: 0.1738 - val_acc: 0.7386\n",
      "Epoch 32/101\n",
      " - 0s - loss: 0.1581 - acc: 0.7812 - val_loss: 0.1705 - val_acc: 0.7386\n",
      "Epoch 33/101\n",
      " - 0s - loss: 0.1588 - acc: 0.7812 - val_loss: 0.1731 - val_acc: 0.7386\n",
      "Epoch 34/101\n",
      " - 0s - loss: 0.1582 - acc: 0.7812 - val_loss: 0.1718 - val_acc: 0.7386\n",
      "Epoch 35/101\n",
      " - 0s - loss: 0.1582 - acc: 0.7812 - val_loss: 0.1718 - val_acc: 0.7386\n",
      "Epoch 36/101\n",
      " - 0s - loss: 0.1582 - acc: 0.7812 - val_loss: 0.1715 - val_acc: 0.7386\n",
      "Epoch 37/101\n",
      " - 0s - loss: 0.1586 - acc: 0.7812 - val_loss: 0.1719 - val_acc: 0.7386\n",
      "Epoch 38/101\n",
      " - 0s - loss: 0.1587 - acc: 0.7812 - val_loss: 0.1715 - val_acc: 0.7386\n",
      "Epoch 39/101\n",
      " - 0s - loss: 0.1604 - acc: 0.7812 - val_loss: 0.1766 - val_acc: 0.7386\n",
      "Epoch 40/101\n",
      " - 0s - loss: 0.1582 - acc: 0.7812 - val_loss: 0.1727 - val_acc: 0.7386\n",
      "Epoch 41/101\n",
      " - 0s - loss: 0.1580 - acc: 0.7812 - val_loss: 0.1712 - val_acc: 0.7386\n",
      "Epoch 42/101\n",
      " - 0s - loss: 0.1582 - acc: 0.7812 - val_loss: 0.1711 - val_acc: 0.7386\n",
      "Epoch 43/101\n",
      " - 0s - loss: 0.1596 - acc: 0.7812 - val_loss: 0.1754 - val_acc: 0.7386\n",
      "Epoch 44/101\n",
      " - 0s - loss: 0.1581 - acc: 0.7812 - val_loss: 0.1714 - val_acc: 0.7386\n",
      "Epoch 45/101\n",
      " - 0s - loss: 0.1587 - acc: 0.7812 - val_loss: 0.1709 - val_acc: 0.7386\n",
      "Epoch 46/101\n",
      " - 0s - loss: 0.1585 - acc: 0.7812 - val_loss: 0.1742 - val_acc: 0.7386\n",
      "Epoch 47/101\n",
      " - 0s - loss: 0.1583 - acc: 0.7812 - val_loss: 0.1720 - val_acc: 0.7386\n",
      "Epoch 48/101\n",
      " - 0s - loss: 0.1586 - acc: 0.7812 - val_loss: 0.1709 - val_acc: 0.7386\n",
      "Epoch 49/101\n",
      " - 0s - loss: 0.1591 - acc: 0.7812 - val_loss: 0.1751 - val_acc: 0.7386\n",
      "Epoch 50/101\n",
      " - 0s - loss: 0.1582 - acc: 0.7812 - val_loss: 0.1711 - val_acc: 0.7386\n",
      "Epoch 51/101\n",
      " - 0s - loss: 0.1585 - acc: 0.7812 - val_loss: 0.1715 - val_acc: 0.7386\n",
      "Epoch 52/101\n",
      " - 0s - loss: 0.1585 - acc: 0.7812 - val_loss: 0.1740 - val_acc: 0.7386\n",
      "Epoch 53/101\n",
      " - 0s - loss: 0.1583 - acc: 0.7812 - val_loss: 0.1729 - val_acc: 0.7386\n",
      "Epoch 54/101\n",
      " - 0s - loss: 0.1581 - acc: 0.7812 - val_loss: 0.1708 - val_acc: 0.7386\n",
      "Epoch 55/101\n",
      " - 0s - loss: 0.1582 - acc: 0.7812 - val_loss: 0.1723 - val_acc: 0.7386\n",
      "Epoch 56/101\n",
      " - 0s - loss: 0.1581 - acc: 0.7812 - val_loss: 0.1732 - val_acc: 0.7386\n",
      "Epoch 57/101\n",
      " - 0s - loss: 0.1584 - acc: 0.7812 - val_loss: 0.1731 - val_acc: 0.7386\n",
      "Epoch 58/101\n",
      " - 0s - loss: 0.1585 - acc: 0.7812 - val_loss: 0.1705 - val_acc: 0.7386\n",
      "Epoch 59/101\n",
      " - 0s - loss: 0.1587 - acc: 0.7812 - val_loss: 0.1707 - val_acc: 0.7386\n",
      "Epoch 60/101\n",
      " - 0s - loss: 0.1597 - acc: 0.7812 - val_loss: 0.1772 - val_acc: 0.7386\n",
      "Epoch 61/101\n",
      " - 0s - loss: 0.1594 - acc: 0.7812 - val_loss: 0.1752 - val_acc: 0.7386\n",
      "Epoch 62/101\n",
      " - 0s - loss: 0.1583 - acc: 0.7812 - val_loss: 0.1693 - val_acc: 0.7386\n",
      "Epoch 63/101\n",
      " - 0s - loss: 0.1588 - acc: 0.7812 - val_loss: 0.1709 - val_acc: 0.7386\n",
      "Epoch 64/101\n",
      " - 0s - loss: 0.1579 - acc: 0.7812 - val_loss: 0.1740 - val_acc: 0.7386\n",
      "Epoch 65/101\n",
      " - 0s - loss: 0.1584 - acc: 0.7812 - val_loss: 0.1738 - val_acc: 0.7386\n",
      "Epoch 66/101\n",
      " - 0s - loss: 0.1583 - acc: 0.7812 - val_loss: 0.1717 - val_acc: 0.7386\n",
      "Epoch 67/101\n",
      " - 0s - loss: 0.1581 - acc: 0.7812 - val_loss: 0.1719 - val_acc: 0.7386\n",
      "Epoch 68/101\n",
      " - 0s - loss: 0.1583 - acc: 0.7812 - val_loss: 0.1731 - val_acc: 0.7386\n",
      "Epoch 69/101\n",
      " - 0s - loss: 0.1587 - acc: 0.7812 - val_loss: 0.1713 - val_acc: 0.7386\n",
      "Epoch 70/101\n",
      " - 0s - loss: 0.1582 - acc: 0.7812 - val_loss: 0.1733 - val_acc: 0.7386\n",
      "Epoch 71/101\n",
      " - 0s - loss: 0.1590 - acc: 0.7812 - val_loss: 0.1711 - val_acc: 0.7386\n",
      "Epoch 72/101\n",
      " - 0s - loss: 0.1580 - acc: 0.7812 - val_loss: 0.1726 - val_acc: 0.7386\n",
      "Epoch 73/101\n",
      " - 0s - loss: 0.1586 - acc: 0.7812 - val_loss: 0.1758 - val_acc: 0.7386\n",
      "Epoch 74/101\n",
      " - 0s - loss: 0.1583 - acc: 0.7812 - val_loss: 0.1715 - val_acc: 0.7386\n",
      "Epoch 75/101\n",
      " - 0s - loss: 0.1586 - acc: 0.7812 - val_loss: 0.1714 - val_acc: 0.7386\n",
      "Epoch 76/101\n",
      " - 0s - loss: 0.1582 - acc: 0.7812 - val_loss: 0.1719 - val_acc: 0.7386\n",
      "Epoch 77/101\n",
      " - 0s - loss: 0.1588 - acc: 0.7812 - val_loss: 0.1739 - val_acc: 0.7386\n",
      "Epoch 78/101\n",
      " - 0s - loss: 0.1580 - acc: 0.7812 - val_loss: 0.1717 - val_acc: 0.7386\n",
      "Epoch 79/101\n",
      " - 0s - loss: 0.1581 - acc: 0.7812 - val_loss: 0.1712 - val_acc: 0.7386\n",
      "Epoch 80/101\n",
      " - 0s - loss: 0.1590 - acc: 0.7812 - val_loss: 0.1749 - val_acc: 0.7386\n",
      "Epoch 81/101\n",
      " - 0s - loss: 0.1584 - acc: 0.7812 - val_loss: 0.1732 - val_acc: 0.7386\n",
      "Epoch 82/101\n",
      " - 0s - loss: 0.1584 - acc: 0.7812 - val_loss: 0.1705 - val_acc: 0.7386\n",
      "Epoch 83/101\n",
      " - 0s - loss: 0.1588 - acc: 0.7812 - val_loss: 0.1726 - val_acc: 0.7386\n",
      "Epoch 84/101\n",
      " - 0s - loss: 0.1582 - acc: 0.7812 - val_loss: 0.1740 - val_acc: 0.7386\n",
      "Epoch 85/101\n",
      " - 0s - loss: 0.1582 - acc: 0.7812 - val_loss: 0.1730 - val_acc: 0.7386\n",
      "Epoch 86/101\n",
      " - 0s - loss: 0.1582 - acc: 0.7812 - val_loss: 0.1714 - val_acc: 0.7386\n",
      "Epoch 87/101\n",
      " - 0s - loss: 0.1582 - acc: 0.7812 - val_loss: 0.1724 - val_acc: 0.7386\n",
      "Epoch 88/101\n",
      " - 0s - loss: 0.1581 - acc: 0.7812 - val_loss: 0.1713 - val_acc: 0.7386\n",
      "Epoch 89/101\n",
      " - 0s - loss: 0.1583 - acc: 0.7812 - val_loss: 0.1662 - val_acc: 0.7386\n",
      "Epoch 90/101\n",
      " - 0s - loss: 0.1369 - acc: 0.7812 - val_loss: 0.1296 - val_acc: 0.7386\n",
      "Epoch 91/101\n",
      " - 0s - loss: 0.0804 - acc: 0.8466 - val_loss: 0.0519 - val_acc: 0.9886\n",
      "Epoch 92/101\n",
      " - 0s - loss: 0.0279 - acc: 0.9915 - val_loss: 0.0096 - val_acc: 1.0000\n",
      "Epoch 93/101\n",
      " - 0s - loss: 0.0054 - acc: 1.0000 - val_loss: 0.0035 - val_acc: 1.0000\n"
     ]
    },
    {
     "name": "stdout",
     "output_type": "stream",
     "text": [
      "Epoch 94/101\n",
      " - 0s - loss: 0.0026 - acc: 1.0000 - val_loss: 0.0021 - val_acc: 1.0000\n",
      "Epoch 95/101\n",
      " - 0s - loss: 0.0017 - acc: 1.0000 - val_loss: 0.0016 - val_acc: 1.0000\n",
      "Epoch 96/101\n",
      " - 0s - loss: 0.0013 - acc: 1.0000 - val_loss: 0.0013 - val_acc: 1.0000\n",
      "Epoch 97/101\n",
      " - 0s - loss: 0.0011 - acc: 1.0000 - val_loss: 0.0012 - val_acc: 1.0000\n",
      "Epoch 98/101\n",
      " - 0s - loss: 0.0010 - acc: 1.0000 - val_loss: 0.0011 - val_acc: 1.0000\n",
      "Epoch 99/101\n",
      " - 0s - loss: 9.0448e-04 - acc: 1.0000 - val_loss: 9.6094e-04 - val_acc: 1.0000\n",
      "Epoch 100/101\n",
      " - 0s - loss: 8.2759e-04 - acc: 1.0000 - val_loss: 8.8161e-04 - val_acc: 1.0000\n",
      "Epoch 101/101\n",
      " - 0s - loss: 7.6029e-04 - acc: 1.0000 - val_loss: 8.1847e-04 - val_acc: 1.0000\n",
      "\n",
      "Training complete!\n"
     ]
    }
   ],
   "source": [
    "nn_output = nn.fit(np.array(x_train), np.array(y_train), epochs=epochs, batch_size=batch_size, verbose=2 , validation_data=(np.array(x_test), np.array(y_test)))\n",
    "print(\"\\nTraining complete!\")"
   ]
  },
  {
   "cell_type": "markdown",
   "metadata": {},
   "source": [
    "## Plot the loss during training"
   ]
  },
  {
   "cell_type": "code",
   "execution_count": 23,
   "metadata": {},
   "outputs": [
    {
     "data": {
      "image/png": "[encoded data removed]",
      "text/plain": [
       "<Figure size 432x288 with 1 Axes>"
      ]
     },
     "metadata": {
      "needs_background": "light"
     },
     "output_type": "display_data"
    }
   ],
   "source": [
    "fig = plt.figure()\n",
    "ax = fig.add_subplot(111)\n",
    "ax.plot(nn_output.history['loss'], 'o')  # show average losses\n",
    "plt.title(\"Average losses per epoch\")\n",
    "plt.xlabel(\"Epochs\")\n",
    "plt.ylabel(\"Avg accuracy\")\n",
    "plt.yscale('log')\n",
    "plt.show()\n",
    "plt.close()"
   ]
  },
  {
   "cell_type": "markdown",
   "metadata": {},
   "source": [
    "## Evaluate the NN"
   ]
  },
  {
   "cell_type": "code",
   "execution_count": 25,
   "metadata": {},
   "outputs": [
    {
     "name": "stdout",
     "output_type": "stream",
     "text": [
      "Validation Accuracy: 1.00\n",
      "[-4, 7]:  \t(Actual, Prediction): (1, 1)\n",
      "[5, 9]:  \t(Actual, Prediction): (0, 0)\n",
      "[-2, 2]:  \t(Actual, Prediction): (1, 1)\n",
      "[-4, -5]:  \t(Actual, Prediction): (0, 0)\n",
      "[8, 7]:  \t(Actual, Prediction): (0, 0)\n",
      "[10, 9]:  \t(Actual, Prediction): (0, 0)\n",
      "[2, 0]:  \t(Actual, Prediction): (1, 1)\n",
      "[5, -1]:  \t(Actual, Prediction): (1, 1)\n",
      "[-1, 4]:  \t(Actual, Prediction): (1, 1)\n",
      "[-6, -10]:  \t(Actual, Prediction): (0, 0)\n",
      "[-5, 6]:  \t(Actual, Prediction): (1, 1)\n",
      "[8, -6]:  \t(Actual, Prediction): (1, 1)\n",
      "[9, -4]:  \t(Actual, Prediction): (1, 1)\n",
      "[-6, -3]:  \t(Actual, Prediction): (0, 0)\n",
      "[-7, 9]:  \t(Actual, Prediction): (1, 1)\n",
      "[2, 5]:  \t(Actual, Prediction): (0, 0)\n",
      "[-5, 4]:  \t(Actual, Prediction): (1, 1)\n",
      "[7, -9]:  \t(Actual, Prediction): (1, 1)\n",
      "[3, 8]:  \t(Actual, Prediction): (0, 0)\n",
      "[-8, 5]:  \t(Actual, Prediction): (1, 1)\n",
      "[5, -4]:  \t(Actual, Prediction): (1, 1)\n",
      "[2, -5]:  \t(Actual, Prediction): (1, 1)\n",
      "[8, 5]:  \t(Actual, Prediction): (0, 0)\n",
      "[-8, -10]:  \t(Actual, Prediction): (0, 0)\n",
      "[-5, -10]:  \t(Actual, Prediction): (0, 0)\n",
      "[9, -2]:  \t(Actual, Prediction): (1, 1)\n",
      "[3, -10]:  \t(Actual, Prediction): (1, 1)\n",
      "[8, 3]:  \t(Actual, Prediction): (0, 0)\n",
      "[-9, 7]:  \t(Actual, Prediction): (1, 1)\n",
      "[-8, 1]:  \t(Actual, Prediction): (1, 1)\n",
      "[8, -4]:  \t(Actual, Prediction): (1, 1)\n",
      "[-4, -8]:  \t(Actual, Prediction): (0, 0)\n",
      "[3, 7]:  \t(Actual, Prediction): (0, 0)\n",
      "[-9, -3]:  \t(Actual, Prediction): (0, 0)\n",
      "[-2, 5]:  \t(Actual, Prediction): (1, 1)\n",
      "[7, 3]:  \t(Actual, Prediction): (0, 0)\n",
      "[-3, 6]:  \t(Actual, Prediction): (1, 1)\n",
      "[-3, -6]:  \t(Actual, Prediction): (0, 0)\n",
      "[1, 3]:  \t(Actual, Prediction): (0, 0)\n",
      "[-1, 3]:  \t(Actual, Prediction): (1, 1)\n",
      "[-9, 0]:  \t(Actual, Prediction): (1, 1)\n",
      "[-9, 1]:  \t(Actual, Prediction): (1, 1)\n",
      "[-4, -9]:  \t(Actual, Prediction): (0, 0)\n",
      "[-2, 7]:  \t(Actual, Prediction): (1, 1)\n",
      "[9, 3]:  \t(Actual, Prediction): (0, 0)\n",
      "[3, 5]:  \t(Actual, Prediction): (0, 0)\n",
      "[8, 10]:  \t(Actual, Prediction): (0, 0)\n",
      "[9, -8]:  \t(Actual, Prediction): (1, 1)\n",
      "[-3, -10]:  \t(Actual, Prediction): (0, 0)\n",
      "[3, 2]:  \t(Actual, Prediction): (0, 0)\n",
      "[9, 0]:  \t(Actual, Prediction): (1, 1)\n",
      "[-2, -1]:  \t(Actual, Prediction): (0, 0)\n",
      "[-6, 5]:  \t(Actual, Prediction): (1, 1)\n",
      "[6, -8]:  \t(Actual, Prediction): (1, 1)\n",
      "[5, 10]:  \t(Actual, Prediction): (0, 0)\n",
      "[-1, -2]:  \t(Actual, Prediction): (0, 0)\n",
      "[1, 2]:  \t(Actual, Prediction): (0, 0)\n",
      "[-5, 0]:  \t(Actual, Prediction): (1, 1)\n",
      "[9, -5]:  \t(Actual, Prediction): (1, 1)\n",
      "[2, 3]:  \t(Actual, Prediction): (0, 0)\n",
      "[-7, -1]:  \t(Actual, Prediction): (0, 0)\n",
      "[5, 8]:  \t(Actual, Prediction): (0, 0)\n",
      "[-9, -6]:  \t(Actual, Prediction): (0, 0)\n",
      "[-3, 8]:  \t(Actual, Prediction): (1, 1)\n",
      "[6, -9]:  \t(Actual, Prediction): (1, 1)\n",
      "[10, -5]:  \t(Actual, Prediction): (1, 1)\n",
      "[-2, -4]:  \t(Actual, Prediction): (0, 0)\n",
      "[10, -3]:  \t(Actual, Prediction): (1, 1)\n",
      "[-9, 8]:  \t(Actual, Prediction): (1, 1)\n",
      "[-1, -6]:  \t(Actual, Prediction): (0, 0)\n",
      "[4, 10]:  \t(Actual, Prediction): (0, 0)\n",
      "[8, 8]:  \t(Actual, Prediction): (0, 0)\n",
      "[-6, -6]:  \t(Actual, Prediction): (0, 0)\n",
      "[-7, -3]:  \t(Actual, Prediction): (0, 0)\n",
      "[-6, -7]:  \t(Actual, Prediction): (0, 0)\n",
      "[3, 9]:  \t(Actual, Prediction): (0, 0)\n",
      "[1, 1]:  \t(Actual, Prediction): (0, 0)\n",
      "[3, -6]:  \t(Actual, Prediction): (1, 1)\n",
      "[0, -9]:  \t(Actual, Prediction): (1, 1)\n",
      "[-10, -1]:  \t(Actual, Prediction): (0, 0)\n",
      "[7, -8]:  \t(Actual, Prediction): (1, 1)\n",
      "[-1, -4]:  \t(Actual, Prediction): (0, 0)\n",
      "[1, 10]:  \t(Actual, Prediction): (0, 0)\n",
      "[5, -2]:  \t(Actual, Prediction): (1, 1)\n",
      "[-1, -7]:  \t(Actual, Prediction): (0, 0)\n",
      "[-5, 2]:  \t(Actual, Prediction): (1, 1)\n",
      "[-8, -5]:  \t(Actual, Prediction): (0, 0)\n",
      "[-2, -6]:  \t(Actual, Prediction): (0, 0)\n",
      "\n",
      "Evaluation complete!\n"
     ]
    }
   ],
   "source": [
    "# find predictions on test set\n",
    "pred = nn.predict(np.array(x_test))\n",
    "\n",
    "acc = 0\n",
    "for i in range(len(y_test)):\n",
    "    if round(pred[i]) == y_test[i][0]:\n",
    "        acc += 1\n",
    "\n",
    "print(\"Validation Accuracy: {0:.2f}\".format(float(acc)/float(len(y_test))))\n",
    "\n",
    "for i in range(len(x_test)):\n",
    "    print(\"{}:  \\t(Actual, Prediction): ({}, {})\".format(x_test[i], y_test[i][0], int(round(pred[i][0]))))\n",
    "\n",
    "print(\"\\nEvaluation complete!\")"
   ]
  },
  {
   "cell_type": "markdown",
   "metadata": {},
   "source": [
    "## Plot prediction of NN on all data   "
   ]
  },
  {
   "cell_type": "code",
   "execution_count": 27,
   "metadata": {},
   "outputs": [
    {
     "data": {
      "image/png": "[encoded data removed]",
      "text/plain": [
       "<Figure size 432x288 with 1 Axes>"
      ]
     },
     "metadata": {
      "needs_background": "light"
     },
     "output_type": "display_data"
    }
   ],
   "source": [
    "x_all = [e[0] for e in all_data]\n",
    "pred = nn.predict(np.array(x_all))\n",
    "\n",
    "fig = plt.figure()\n",
    "ax = fig.add_subplot(111, projection='3d')\n",
    "ax.scatter([e[0][0] for e in all_data], [e[0][1] for e in all_data], [e[0] for e in pred])\n",
    "ax.set_xlabel('x_0')\n",
    "ax.set_ylabel('x_1')\n",
    "ax.set_zlabel('y')\n",
    "\n",
    "plt.show()\n",
    "plt.close()"
   ]
  },
  {
   "cell_type": "code",
   "execution_count": null,
   "metadata": {},
   "outputs": [],
   "source": []
  }
 ],
 "metadata": {
  "kernelspec": {
   "display_name": "Python 2",
   "language": "python",
   "name": "python2"
  },
  "language_info": {
   "codemirror_mode": {
    "name": "ipython",
    "version": 2
   },
   "file_extension": ".py",
   "mimetype": "text/x-python",
   "name": "python",
   "nbconvert_exporter": "python",
   "pygments_lexer": "ipython2",
   "version": "2.7.10"
  }
 },
 "nbformat": 4,
 "nbformat_minor": 2
}
