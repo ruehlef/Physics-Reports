{
 "cells": [
  {
   "cell_type": "markdown",
   "metadata": {},
   "source": [
    "# Example for over-/underfitting and regularization"
   ]
  },
  {
   "cell_type": "code",
   "execution_count": 7,
   "metadata": {},
   "outputs": [],
   "source": [
    "from __future__ import print_function  # for backwards compatibility: uses print() also in python2\n",
    "\n",
    "import torch\n",
    "import torch.nn as nn  # nn functionality\n",
    "from torch.autograd import Variable  # backpropagation\n",
    "import torch.optim as optim  # optimizers\n",
    "import numpy as np\n",
    "import math\n",
    "\n",
    "import matplotlib as mpl  # for plotting\n",
    "%matplotlib inline\n",
    "import matplotlib.pyplot as plt  # for plotting\n",
    "from matplotlib.colors import LinearSegmentedColormap  # some colors for  plotting the different data ranges\n",
    "plt.rc('text', usetex=True)  # LaTex support for captions\n",
    "\n",
    "# Optional: Seed the random number generator for reproducibility\n",
    "seed = 0\n",
    "np.random.seed(seed)\n",
    "rng = np.random.RandomState(seed)"
   ]
  },
  {
   "cell_type": "markdown",
   "metadata": {},
   "source": [
    "## Generate an example set of points"
   ]
  },
  {
   "cell_type": "code",
   "execution_count": 8,
   "metadata": {},
   "outputs": [],
   "source": [
    "# helper function to create random batches\n",
    "def shuffle_trainset(x_train, y_train):\n",
    "    assert len(x_train) == len(y_train)\n",
    "    new_order = np.random.permutation(len(x_train))\n",
    "    new_x = [x_train[i] for i in new_order]\n",
    "    new_y = [y_train[i] for i in new_order]\n",
    "\n",
    "    return new_x, new_y\n",
    "\n",
    "\n",
    "# the function we will interpolate: A Gaussian with small sinusoidal modulations\n",
    "def f(x):\n",
    "    random_noise = 0.6 * np.random.random() - 0.3  # generate a random number in [-0.3, 0.3)\n",
    "    return 0.02 * math.sin(3. * x) + math.exp(-(x - random_noise)**2/2.)\n",
    "\n",
    "\n",
    "x_train = [[x] for x in np.arange(-5, 5, .5)]\n",
    "y_train = [[f(x[0])] for x in x_train]\n",
    "x_test = Variable(torch.from_numpy(np.array([[x] for x in np.arange(-7,7,0.05)], dtype=np.float32)))"
   ]
  },
  {
   "cell_type": "markdown",
   "metadata": {},
   "source": [
    "## Define the NN hyperparameters"
   ]
  },
  {
   "cell_type": "code",
   "execution_count": 9,
   "metadata": {},
   "outputs": [],
   "source": [
    "# number of nodes in each layer\n",
    "input_dim = 1\n",
    "hidden1_dim = 15\n",
    "hidden2_dim = 15\n",
    "output_dim = 1\n",
    "\n",
    "# set training variables\n",
    "epochs = 10\n",
    "batch_size = 8\n",
    "learning_rate = 0.01"
   ]
  },
  {
   "cell_type": "markdown",
   "metadata": {},
   "source": [
    "## 1.) Set up and initialize the NN, no regularization, undertraining"
   ]
  },
  {
   "cell_type": "code",
   "execution_count": 10,
   "metadata": {},
   "outputs": [
    {
     "name": "stdout",
     "output_type": "stream",
     "text": [
      "\n",
      "Start undertraining...\n",
      "\n",
      "Undertraining complete!\n"
     ]
    },
    {
     "data": {
      "image/png": "[encoded data removed]",
      "text/plain": [
       "<Figure size 432x288 with 1 Axes>"
      ]
     },
     "metadata": {
      "needs_background": "light"
     },
     "output_type": "display_data"
    }
   ],
   "source": [
    "# create the NNs\n",
    "nn_regressor = torch.nn.Sequential(\n",
    "    torch.nn.Linear(input_dim, hidden1_dim),\n",
    "    torch.nn.Tanh(),\n",
    "    torch.nn.Linear(hidden1_dim, hidden2_dim),\n",
    "    torch.nn.Tanh(),\n",
    "    torch.nn.Linear(hidden2_dim, output_dim),\n",
    ")\n",
    "\n",
    "# Specify the optimizer: ADAM with MSE loss\n",
    "optimizer = optim.Adam(nn_regressor.parameters(), lr=learning_rate)\n",
    "criterion = nn.MSELoss()\n",
    "\n",
    "# undertrain the NN\n",
    "nn_regressor.train()  # set to training mode, i.e. activate dropout, etc.\n",
    "print(\"\\nStart undertraining...\")\n",
    "\n",
    "for epoch in range(epochs):\n",
    "    optimizer.zero_grad()  # reset the gradient for new batch\n",
    "    batches = int(np.floor(len(x_train) / batch_size))\n",
    "    x_train, y_train = shuffle_trainset(x_train, y_train)\n",
    "    for batch in range(batches):\n",
    "        # wrap around for last batch if batch size is smaller than the number of elements left\n",
    "        if len(x_train) < (batch + 1) * batch_size:\n",
    "            x_batch = x_train[batch * batch_size:] + x_train[0:len(x_train) - batch * batch_size:]\n",
    "            y_batch = y_train[batch * batch_size:] + y_train[0:len(y_train) - batch * batch_size:]\n",
    "        else:\n",
    "            x_batch = x_train[batch * batch_size:(batch + 1) * batch_size]\n",
    "            y_batch = y_train[batch * batch_size:(batch + 1) * batch_size]\n",
    "\n",
    "        x_batch = Variable(torch.from_numpy(np.array(x_batch, dtype=np.float32)))\n",
    "        y_batch = Variable(torch.from_numpy(np.array(y_batch, dtype=np.float32)))\n",
    "\n",
    "        y_hat = nn_regressor(x_batch)  # forward pass\n",
    "        loss = criterion(y_hat, y_batch)  # compute loss\n",
    "        loss.backward()  # backward pass\n",
    "        optimizer.step()  # update parameters\n",
    "\n",
    "print(\"\\nUndertraining complete!\")\n",
    "\n",
    "# Regression with the undertrained NN: find predictions on a finer interval\n",
    "nn_regressor.eval()  # set to eval mode, i.e. deactivate dropout, etc.\n",
    "underfit_data = nn_regressor(x_test)\n",
    "\n",
    "# plot the result\n",
    "colors = ['#377eb8', '#ff7f00', '#4daf4a', '#f781bf', '#a65628', '#984ea3', '#999999', '#e41a1c', '#dede00']\n",
    "cm = LinearSegmentedColormap.from_list(\"my_cmap\", colors, N=len(colors))\n",
    "\n",
    "# plot original plus underfit data\n",
    "# extrapolated data\n",
    "plt.scatter(x_test.data.numpy().flatten(), underfit_data.data.numpy().flatten(), facecolor=colors[0], s=35, marker='D')\n",
    "# original data\n",
    "plt.scatter([x[0] for x in x_train], [y[0] for y in y_train], facecolor=colors[1], s=35, marker='x')\n",
    "plt.title(r\"$\\mathrm{Underfit~Data}$\", size=24)\n",
    "plt.xticks(fontsize=20)\n",
    "plt.yticks(fontsize=20)\n",
    "# plt.gca().set_aspect(0.1)\n",
    "plt.show()"
   ]
  },
  {
   "cell_type": "markdown",
   "metadata": {},
   "source": [
    "## 2.) Set up and initialize the NN, no regularization, overtraining"
   ]
  },
  {
   "cell_type": "code",
   "execution_count": 11,
   "metadata": {},
   "outputs": [
    {
     "name": "stdout",
     "output_type": "stream",
     "text": [
      "\n",
      "Start overtraining...\n",
      "\n",
      "Overtraining complete!\n"
     ]
    },
    {
     "data": {
      "image/png": "[encoded data removed]",
      "text/plain": [
       "<Figure size 432x288 with 1 Axes>"
      ]
     },
     "metadata": {
      "needs_background": "light"
     },
     "output_type": "display_data"
    }
   ],
   "source": [
    "# create the NNs\n",
    "nn_regressor = torch.nn.Sequential(\n",
    "    torch.nn.Linear(input_dim, hidden1_dim),\n",
    "    torch.nn.Tanh(),\n",
    "    torch.nn.Linear(hidden1_dim, hidden2_dim),\n",
    "    torch.nn.Tanh(),\n",
    "    torch.nn.Linear(hidden2_dim, output_dim),\n",
    ")\n",
    "\n",
    "# Specify the optimizer: ADAM with MSE loss\n",
    "optimizer = optim.Adam(nn_regressor.parameters(), lr=learning_rate)\n",
    "criterion = nn.MSELoss()\n",
    "\n",
    "# set training variables\n",
    "epochs = 20000\n",
    "batch_size = 8\n",
    "learning_rate = 0.001\n",
    "\n",
    "# overtrain the NN\n",
    "nn_regressor.train()  # set to training mode, i.e. activate dropout, etc.\n",
    "print(\"\\nStart overtraining...\")\n",
    "\n",
    "for epoch in range(epochs):\n",
    "    optimizer.zero_grad()  # reset the gradient for new batch\n",
    "    batches = int(np.floor(len(x_train) / batch_size))\n",
    "    x_train, y_train = shuffle_trainset(x_train, y_train)\n",
    "    for batch in range(batches):\n",
    "        # wrap around for last batch if batch size is smaller than the number of elements left\n",
    "        if len(x_train) < (batch + 1) * batch_size:\n",
    "            x_batch = x_train[batch * batch_size:] + x_train[0:len(x_train) - batch * batch_size:]\n",
    "            y_batch = y_train[batch * batch_size:] + y_train[0:len(y_train) - batch * batch_size:]\n",
    "        else:\n",
    "            x_batch = x_train[batch * batch_size:(batch + 1) * batch_size]\n",
    "            y_batch = y_train[batch * batch_size:(batch + 1) * batch_size]\n",
    "\n",
    "        x_batch = Variable(torch.from_numpy(np.array(x_batch, dtype=np.float32)))\n",
    "        y_batch = Variable(torch.from_numpy(np.array(y_batch, dtype=np.float32)))\n",
    "\n",
    "        y_hat = nn_regressor(x_batch)  # forward pass\n",
    "        loss = criterion(y_hat, y_batch)  # compute loss\n",
    "        loss.backward()  # backward pass\n",
    "        optimizer.step()  # update parameters\n",
    "\n",
    "print(\"\\nOvertraining complete!\")\n",
    "\n",
    "# Regression with the undertrained NN: find predictions on a finer interval\n",
    "nn_regressor.eval()  # set to eval mode, i.e. deactivate dropout, etc.\n",
    "overfit_data = nn_regressor(x_test)\n",
    "\n",
    "# plot original plus overfit data\n",
    "# extrapolated data\n",
    "plt.scatter(x_test.data.numpy().flatten(), overfit_data.data.numpy().flatten(), facecolor=colors[0], s=35, marker='D')\n",
    "# original data\n",
    "plt.scatter([x[0] for x in x_train], [y[0] for y in y_train], facecolor=colors[1], s=35, marker='x')\n",
    "plt.title(r\"$\\mathrm{Overfit~Data}$\", size=24)\n",
    "plt.xticks(fontsize=20)\n",
    "plt.yticks(fontsize=20)\n",
    "# plt.gca().set_aspect(0.1)\n",
    "plt.show()"
   ]
  },
  {
   "cell_type": "markdown",
   "metadata": {},
   "source": [
    "## 3.) Set up and initialize the NN, dropout regularization, attempt overtraining"
   ]
  },
  {
   "cell_type": "code",
   "execution_count": 13,
   "metadata": {},
   "outputs": [
    {
     "name": "stdout",
     "output_type": "stream",
     "text": [
      "\n",
      "Start overtraining with dropout...\n",
      "\n",
      "Overtraining with dropout complete!\n"
     ]
    },
    {
     "data": {
      "image/png": "[encoded data removed]",
      "text/plain": [
       "<Figure size 432x288 with 1 Axes>"
      ]
     },
     "metadata": {
      "needs_background": "light"
     },
     "output_type": "display_data"
    }
   ],
   "source": [
    "# create the NNs\n",
    "nn_regressor = torch.nn.Sequential(\n",
    "    torch.nn.Linear(input_dim, hidden1_dim),\n",
    "    torch.nn.Tanh(),\n",
    "    torch.nn.Dropout(0.1),\n",
    "    torch.nn.Linear(hidden1_dim, hidden2_dim),\n",
    "    torch.nn.Tanh(),\n",
    "    torch.nn.Dropout(0.1),\n",
    "    torch.nn.Linear(hidden2_dim, output_dim),\n",
    ")\n",
    "\n",
    "# Specify the optimizer: ADAM with MSE loss\n",
    "optimizer = optim.Adam(nn_regressor.parameters(), lr=learning_rate)\n",
    "criterion = nn.MSELoss()\n",
    "\n",
    "# set training variables\n",
    "epochs = 20000\n",
    "batch_size = 8\n",
    "learning_rate = 0.001\n",
    "\n",
    "# overtrain the NN\n",
    "nn_regressor.train()  # set to training mode, i.e. activate dropout, etc.\n",
    "print(\"\\nStart overtraining with dropout...\")\n",
    "\n",
    "for epoch in range(epochs):\n",
    "    optimizer.zero_grad()  # reset the gradient for new batch\n",
    "    batches = int(np.floor(len(x_train) / batch_size))\n",
    "    x_train, y_train = shuffle_trainset(x_train, y_train)\n",
    "    for batch in range(batches):\n",
    "        # wrap around for last batch if batch size is smaller than the number of elements left\n",
    "        if len(x_train) < (batch + 1) * batch_size:\n",
    "            x_batch = x_train[batch * batch_size:] + x_train[0:len(x_train) - batch * batch_size:]\n",
    "            y_batch = y_train[batch * batch_size:] + y_train[0:len(y_train) - batch * batch_size:]\n",
    "        else:\n",
    "            x_batch = x_train[batch * batch_size:(batch + 1) * batch_size]\n",
    "            y_batch = y_train[batch * batch_size:(batch + 1) * batch_size]\n",
    "\n",
    "        x_batch = Variable(torch.from_numpy(np.array(x_batch, dtype=np.float32)))\n",
    "        y_batch = Variable(torch.from_numpy(np.array(y_batch, dtype=np.float32)))\n",
    "\n",
    "        y_hat = nn_regressor(x_batch)  # forward pass\n",
    "        loss = criterion(y_hat, y_batch)  # compute loss\n",
    "        loss.backward()  # backward pass\n",
    "        optimizer.step()  # update parameters\n",
    "\n",
    "print(\"\\nOvertraining with dropout complete!\")\n",
    "\n",
    "# Regression with the undertrained NN: find predictions on a finer interval\n",
    "nn_regressor.eval()  # set to eval mode, i.e. deactivate dropout, etc.\n",
    "dropout_data = nn_regressor(x_test)\n",
    "\n",
    "# plot original plus dropout data\n",
    "# extrapolated data\n",
    "plt.scatter(x_test.data.numpy().flatten(), dropout_data.data.numpy().flatten(), facecolor=colors[0], s=35, marker='D')\n",
    "# original data\n",
    "plt.scatter([x[0] for x in x_train], [y[0] for y in y_train], facecolor=colors[1], s=35, marker='x')\n",
    "plt.title(r\"$\\mathrm{Droput~Data}$\", size=24)\n",
    "plt.xticks(fontsize=20)\n",
    "plt.yticks(fontsize=20)\n",
    "# plt.gca().set_aspect(0.1)\n",
    "plt.show()"
   ]
  },
  {
   "cell_type": "markdown",
   "metadata": {},
   "source": [
    "## 4.) Set up and initialize the NN, weight regularization, attempt overtraining"
   ]
  },
  {
   "cell_type": "code",
   "execution_count": 14,
   "metadata": {},
   "outputs": [
    {
     "name": "stdout",
     "output_type": "stream",
     "text": [
      "\n",
      "Start overtraining with weight regularization...\n",
      "\n",
      "Overtraining with weight regularization complete!\n"
     ]
    },
    {
     "data": {
      "image/png": "[encoded data removed]",
      "text/plain": [
       "<Figure size 432x288 with 1 Axes>"
      ]
     },
     "metadata": {
      "needs_background": "light"
     },
     "output_type": "display_data"
    }
   ],
   "source": [
    "# create the NNs\n",
    "nn_regressor = torch.nn.Sequential(\n",
    "    torch.nn.Linear(input_dim, hidden1_dim),\n",
    "    torch.nn.Tanh(),\n",
    "    torch.nn.Linear(hidden1_dim, hidden2_dim),\n",
    "    torch.nn.Tanh(),\n",
    "    torch.nn.Linear(hidden2_dim, output_dim),\n",
    ")\n",
    "\n",
    "# Specify the optimizer: ADAM with MSE loss\n",
    "optimizer = optim.Adam(nn_regressor.parameters(), lr=learning_rate, weight_decay=0.0001)\n",
    "criterion = nn.MSELoss()\n",
    "\n",
    "# set training variables\n",
    "epochs = 20000\n",
    "batch_size = 8\n",
    "learning_rate = 0.001\n",
    "\n",
    "# overtrain the NN\n",
    "nn_regressor.train()  # set to training mode, i.e. activate dropout, etc.\n",
    "print(\"\\nStart overtraining with weight regularization...\")\n",
    "\n",
    "for epoch in range(epochs):\n",
    "    optimizer.zero_grad()  # reset the gradient for new batch\n",
    "    batches = int(np.floor(len(x_train) / batch_size))\n",
    "    x_train, y_train = shuffle_trainset(x_train, y_train)\n",
    "    for batch in range(batches):\n",
    "        # wrap around for last batch if batch size is smaller than the number of elements left\n",
    "        if len(x_train) < (batch + 1) * batch_size:\n",
    "            x_batch = x_train[batch * batch_size:] + x_train[0:len(x_train) - batch * batch_size:]\n",
    "            y_batch = y_train[batch * batch_size:] + y_train[0:len(y_train) - batch * batch_size:]\n",
    "        else:\n",
    "            x_batch = x_train[batch * batch_size:(batch + 1) * batch_size]\n",
    "            y_batch = y_train[batch * batch_size:(batch + 1) * batch_size]\n",
    "\n",
    "        x_batch = Variable(torch.from_numpy(np.array(x_batch, dtype=np.float32)))\n",
    "        y_batch = Variable(torch.from_numpy(np.array(y_batch, dtype=np.float32)))\n",
    "\n",
    "        y_hat = nn_regressor(x_batch)  # forward pass\n",
    "        loss = criterion(y_hat, y_batch)  # compute loss\n",
    "        loss.backward()  # backward pass\n",
    "        optimizer.step()  # update parameters\n",
    "\n",
    "print(\"\\nOvertraining with weight regularization complete!\")\n",
    "\n",
    "# Regression with the undertrained NN: find predictions on a finer interval\n",
    "nn_regressor.eval()  # set to eval mode, i.e. deactivate dropout, etc.\n",
    "weightRegularized_data = nn_regressor(x_test)\n",
    "\n",
    "# plot original plus weight-regularized data\n",
    "# extrapolated data\n",
    "plt.scatter(x_test.data.numpy().flatten(), weightRegularized_data.data.numpy().flatten(), facecolor=colors[0], s=35, marker='D')\n",
    "# original data\n",
    "plt.scatter([x for x in x_train], [y for y in y_train], facecolor=colors[1], s=35, marker='x')\n",
    "plt.title(r\"$\\mathrm{Weight~Regularization~Data}$\", size=24)\n",
    "plt.xticks(fontsize=20)\n",
    "plt.yticks(fontsize=20)\n",
    "# plt.gca().set_aspect(0.1)\n",
    "plt.show()"
   ]
  }
 ],
 "metadata": {
  "kernelspec": {
   "display_name": "Python 2",
   "language": "python",
   "name": "python2"
  },
  "language_info": {
   "codemirror_mode": {
    "name": "ipython",
    "version": 2
   },
   "file_extension": ".py",
   "mimetype": "text/x-python",
   "name": "python",
   "nbconvert_exporter": "python",
   "pygments_lexer": "ipython2",
   "version": "2.7.10"
  }
 },
 "nbformat": 4,
 "nbformat_minor": 2
}
